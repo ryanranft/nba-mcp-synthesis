{
 "cells": [
  {
   "cell_type": "markdown",
   "metadata": {},
   "source": [
    "# NBA MCP Synthesis Workflow\n",
    "\n",
    "This notebook demonstrates the complete multi-model synthesis workflow with MCP context.\n",
    "\n",
    "## What This Demonstrates\n",
    "1. Connecting to MCP server\n",
    "2. Gathering context for different query types\n",
    "3. Running multi-model synthesis (DeepSeek + Claude + Ollama)\n",
    "4. Analyzing results and costs"
   ]
  },
  {
   "cell_type": "code",
   "execution_count": null,
   "metadata": {},
   "outputs": [],
   "source": [
    "# Setup\n",
    "import sys\n",
    "import os\n",
    "import asyncio\n",
    "import json\n",
    "from pathlib import Path\n",
    "from datetime import datetime\n",
    "\n",
    "# Add project root to path\n",
    "project_root = Path.cwd().parent\n",
    "sys.path.insert(0, str(project_root))\n",
    "\n",
    "# Load environment\n",
    "from dotenv import load_dotenv\n",
    "load_dotenv(project_root / '.env')\n",
    "\n",
    "# Import synthesis function\n",
    "from synthesis.multi_model_synthesis import synthesize_with_mcp_context\n",
    "\n",
    "print(\"✓ Environment loaded\")"
   ]
  },
  {
   "cell_type": "markdown",
   "metadata": {},
   "source": [
    "## Example 1: SQL Query Optimization"
   ]
  },
  {
   "cell_type": "code",
   "execution_count": null,
   "metadata": {},
   "outputs": [],
   "source": [
    "# Example SQL query that needs optimization\n",
    "slow_query = \"\"\"\n",
    "SELECT *\n",
    "FROM player_game_stats\n",
    "WHERE player_id IN (\n",
    "    SELECT player_id FROM players WHERE team_id = 'LAL'\n",
    ")\n",
    "ORDER BY game_date DESC\n",
    "\"\"\"\n",
    "\n",
    "result = await synthesize_with_mcp_context(\n",
    "    user_input=\"Optimize this SQL query for better performance\",\n",
    "    selected_code=slow_query,\n",
    "    query_type=\"sql_optimization\",\n",
    "    enable_ollama_verification=False,  # Set to True if Ollama is running\n",
    "    output_dir=str(project_root / \"synthesis_output\")\n",
    ")\n",
    "\n",
    "print(\"\\n\" + \"=\"*80)\n",
    "print(\"SYNTHESIS RESULTS\")\n",
    "print(\"=\"*80)\n",
    "print(f\"Status: {result['status']}\")\n",
    "print(f\"Models used: {', '.join(result['models_used'])}\")\n",
    "print(f\"Total tokens: {result['total_tokens']}\")\n",
    "print(f\"Total cost: ${result['total_cost']:.4f}\")\n",
    "print(f\"Execution time: {result['execution_time_seconds']:.2f}s\")\n",
    "print(f\"\\nFinal explanation:\\n{result['final_explanation'][:500]}...\")"
   ]
  },
  {
   "cell_type": "markdown",
   "metadata": {},
   "source": [
    "## Example 2: Statistical Analysis"
   ]
  },
  {
   "cell_type": "code",
   "execution_count": null,
   "metadata": {},
   "outputs": [],
   "source": [
    "result2 = await synthesize_with_mcp_context(\n",
    "    user_input=\"Analyze the correlation between three-point shooting percentage and wins for the 2023-24 season\",\n",
    "    query_type=\"statistical_analysis\",\n",
    "    enable_ollama_verification=False,\n",
    "    output_dir=str(project_root / \"synthesis_output\")\n",
    ")\n",
    "\n",
    "print(f\"\\nStatus: {result2['status']}\")\n",
    "print(f\"Cost: ${result2['total_cost']:.4f}\")\n",
    "print(f\"Time: {result2['execution_time_seconds']:.2f}s\")"
   ]
  },
  {
   "cell_type": "markdown",
   "metadata": {},
   "source": [
    "## Example 3: ETL Code Generation"
   ]
  },
  {
   "cell_type": "code",
   "execution_count": null,
   "metadata": {},
   "outputs": [],
   "source": [
    "result3 = await synthesize_with_mcp_context(\n",
    "    user_input=\"Generate an ETL pipeline to load box score data from S3 into the games table\",\n",
    "    query_type=\"etl_generation\",\n",
    "    enable_ollama_verification=False,\n",
    "    output_dir=str(project_root / \"synthesis_output\")\n",
    ")\n",
    "\n",
    "print(f\"\\nStatus: {result3['status']}\")\n",
    "print(f\"Cost: ${result3['total_cost']:.4f}\")\n",
    "if result3.get('final_code'):\n",
    "    print(f\"\\nGenerated code ({len(result3['final_code'])} characters)\")\n",
    "    print(result3['final_code'][:300] + \"...\")"
   ]
  },
  {
   "cell_type": "markdown",
   "metadata": {},
   "source": [
    "## Cost Analysis"
   ]
  },
  {
   "cell_type": "code",
   "execution_count": null,
   "metadata": {},
   "outputs": [],
   "source": [
    "# Analyze total costs\n",
    "total_cost = sum([\n",
    "    result.get('total_cost', 0),\n",
    "    result2.get('total_cost', 0),\n",
    "    result3.get('total_cost', 0)\n",
    "])\n",
    "\n",
    "total_tokens = sum([\n",
    "    result.get('total_tokens', 0),\n",
    "    result2.get('total_tokens', 0),\n",
    "    result3.get('total_tokens', 0)\n",
    "])\n",
    "\n",
    "print(\"\\n\" + \"=\"*80)\n",
    "print(\"COST SUMMARY\")\n",
    "print(\"=\"*80)\n",
    "print(f\"Total queries: 3\")\n",
    "print(f\"Total tokens: {total_tokens:,}\")\n",
    "print(f\"Total cost: ${total_cost:.4f}\")\n",
    "print(f\"Average cost per query: ${total_cost/3:.4f}\")\n",
    "print(\"\\nCost breakdown:\")\n",
    "print(f\"  Query 1 (SQL optimization): ${result.get('total_cost', 0):.4f}\")\n",
    "print(f\"  Query 2 (Statistical analysis): ${result2.get('total_cost', 0):.4f}\")\n",
    "print(f\"  Query 3 (ETL generation): ${result3.get('total_cost', 0):.4f}\")"
   ]
  }
 ],
 "metadata": {
  "kernelspec": {
   "display_name": "Python 3",
   "language": "python",
   "name": "python3"
  },
  "language_info": {
   "codemirror_mode": {
    "name": "ipython",
    "version": 3
   },
   "file_extension": ".py",
   "mimetype": "text/x-python",
   "name": "python",
   "nbconvert_exporter": "python",
   "pygments_lexer": "ipython3",
   "version": "3.11.0"
  }
 },
 "nbformat": 4,
 "nbformat_minor": 4
}
