{
 "cells": [
  {
   "cell_type": "markdown",
   "metadata": {},
   "source": [
    "# NBA MCP Data Exploration\n",
    "\n",
    "This notebook demonstrates how to explore the NBA database using the MCP server.\n",
    "\n",
    "## Prerequisites\n",
    "- MCP server running (`./scripts/start_mcp_server.sh`)\n",
    "- Environment variables configured (`.env` file)\n",
    "- Required Python packages installed"
   ]
  },
  {
   "cell_type": "code",
   "execution_count":null,
   "metadata": {},
   "outputs": [],
   "source": [
    "# Setup and imports\n",
    "import sys\n",
    "import os\n",
    "import asyncio\n",
    "import pandas as pd\n",
    "import matplotlib.pyplot as plt\n",
    "import seaborn as sns\n",
    "from pathlib import Path\n",
    "\n",
    "# Add project root to path\n",
    "project_root = Path.cwd().parent\n",
    "sys.path.insert(0, str(project_root))\n",
    "\n",
    "# Load environment variables\n",
    "from dotenv import load_dotenv\n",
    "load_dotenv(project_root / '.env')\n",
    "\n",
    "# Import MCP client\n",
    "from synthesis.mcp_client import MCPClient\n",
    "\n",
    "print(\"✓ Environment loaded\")\n",
    "print(f\"✓ Project root: {project_root}\")"
   ]
  },
  {
   "cell_type": "code",
   "execution_count": null,
   "metadata": {},
   "outputs": [],
   "source": [
    "# Connect to MCP server\n",
    "mcp_client = MCPClient()\n",
    "connected = await mcp_client.connect()\n",
    "\n",
    "if connected:\n",
    "    print(\"✅ Connected to MCP server\")\n",
    "else:\n",
    "    print(\"❌ Failed to connect to MCP server\")\n",
    "    print(\"Make sure the server is running: ./scripts/start_mcp_server.sh\")"
   ]
  },
  {
   "cell_type": "markdown",
   "metadata": {},
   "source": [
    "## 1. Explore Available Tables"
   ]
  },
  {
   "cell_type": "code",
   "execution_count": null,
   "metadata": {},
   "outputs": [],
   "source": [
    "# List all available tables\n",
    "tables = await mcp_client.call_tool(\"list_tables\", {})\n",
    "\n",
    "if tables.get(\"success\"):\n",
    "    table_list = tables.get(\"tables\", [])\n",
    "    print(f\"Found {len(table_list)} tables:\\n\")\n",
    "    for table in table_list:\n",
    "        print(f\"  • {table}\")\n",
    "else:\n",
    "    print(f\"Error: {tables.get('error')}\")"
   ]
  },
  {
   "cell_type": "markdown",
   "metadata": {},
   "source": [
    "## 2. Examine Table Schemas"
   ]
  },
  {
   "cell_type": "code",
   "execution_count": null,
   "metadata": {},
   "outputs": [],
   "source": [
    "# Get schema for a specific table\n",
    "table_name = \"games\"  # Change this to explore different tables\n",
    "\n",
    "schema = await mcp_client.call_tool(\"get_table_schema\", {\"table_name\": table_name})\n",
    "\n",
    "if schema.get(\"success\"):\n",
    "    print(f\"Schema for {table_name}:\\n\")\n",
    "    \n",
    "    # Display as DataFrame for better formatting\n",
    "    columns_df = pd.DataFrame(schema.get(\"columns\", []))\n",
    "    display(columns_df)\n",
    "else:\n",
    "    print(f\"Error: {schema.get('error')}\")"
   ]
  },
  {
   "cell_type": "markdown",
   "metadata": {},
   "source": [
    "## 3. Query Data"
   ]
  },
  {
   "cell_type": "code",
   "execution_count": null,
   "metadata": {},
   "outputs": [],
   "source": [
    "# Example: Get recent games\n",
    "query = \"\"\"\n",
    "SELECT \n",
    "    game_id,\n",
    "    game_date,\n",
    "    home_team_id,\n",
    "    away_team_id,\n",
    "    home_team_score,\n",
    "    away_team_score\n",
    "FROM games\n",
    "ORDER BY game_date DESC\n",
    "LIMIT 10\n",
    "\"\"\"\n",
    "\n",
    "result = await mcp_client.call_tool(\"query_database\", {\"sql\": query})\n",
    "\n",
    "if result.get(\"success\"):\n",
    "    # Convert to DataFrame\n",
    "    df = pd.DataFrame(result.get(\"results\", []))\n",
    "    print(f\"Recent games ({len(df)} rows):\\n\")\n",
    "    display(df)\n",
    "else:\n",
    "    print(f\"Error: {result.get('error')}\")"
   ]
  },
  {
   "cell_type": "markdown",
   "metadata": {},
   "source": [
    "## 4. Statistical Analysis"
   ]
  },
  {
   "cell_type": "code",
   "execution_count": null,
   "metadata": {},
   "outputs": [],
   "source": [
    "# Example: Analyze scoring trends\n",
    "query = \"\"\"\n",
    "SELECT \n",
    "    EXTRACT(YEAR FROM game_date) as season,\n",
    "    AVG(home_team_score + away_team_score) as avg_total_points,\n",
    "    COUNT(*) as games_count\n",
    "FROM games\n",
    "WHERE game_date >= '2015-01-01'\n",
    "GROUP BY EXTRACT(YEAR FROM game_date)\n",
    "ORDER BY season\n",
    "\"\"\"\n",
    "\n",
    "result = await mcp_client.call_tool(\"query_database\", {\"sql\": query})\n",
    "\n",
    "if result.get(\"success\"):\n",
    "    df = pd.DataFrame(result.get(\"results\", []))\n",
    "    \n",
    "    # Plot scoring trends\n",
    "    plt.figure(figsize=(12, 6))\n",
    "    plt.plot(df['season'], df['avg_total_points'], marker='o', linewidth=2)\n",
    "    plt.title('Average Total Points per Game by Season', fontsize=14)\n",
    "    plt.xlabel('Season')\n",
    "    plt.ylabel('Average Total Points')\n",
    "    plt.grid(True, alpha=0.3)\n",
    "    plt.tight_layout()\n",
    "    plt.show()\n",
    "    \n",
    "    display(df)\n",
    "else:\n",
    "    print(f\"Error: {result.get('error')}\")"
   ]
  },
  {
   "cell_type": "markdown",
   "metadata": {},
   "source": [
    "## 5. Access S3 Data"
   ]
  },
  {
   "cell_type": "code",
   "execution_count": null,
   "metadata": {},
   "outputs": [],
   "source": [
    "# List files in S3\n",
    "s3_files = await mcp_client.call_tool(\"list_s3_files\", {\"prefix\": \"\", \"max_keys\": 10})\n",
    "\n",
    "if s3_files.get(\"success\"):\n",
    "    files = s3_files.get(\"files\", [])\n",
    "    print(f\"Sample S3 files ({len(files)} shown):\\n\")\n",
    "    for f in files:\n",
    "        print(f\"  • {f['key']} ({f.get('size', 0) / 1024:.1f} KB)\")\n",
    "else:\n",
    "    print(f\"Error: {s3_files.get('error')}\")"
   ]
  },
  {
   "cell_type": "markdown",
   "metadata": {},
   "source": [
    "## 6. Cleanup"
   ]
  },
  {
   "cell_type": "code",
   "execution_count": null,
   "metadata": {},
   "outputs": [],
   "source": [
    "# Disconnect from MCP server\n",
    "await mcp_client.disconnect()\n",
    "print(\"✓ Disconnected from MCP server\")"
   ]
  }
 ],
 "metadata": {
  "kernelspec": {
   "display_name": "Python 3",
   "language": "python",
   "name": "python3"
  },
  "language_info": {
   "codemirror_mode": {
    "name": "ipython",
    "version": 3
   },
   "file_extension": ".py",
   "mimetype": "text/x-python",
   "name": "python",
   "nbconvert_exporter": "python",
   "pygments_lexer": "ipython3",
   "version": "3.11.0"
  }
 },
 "nbformat": 4,
 "nbformat_minor": 4
}
